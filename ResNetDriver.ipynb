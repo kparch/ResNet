{
  "nbformat": 4,
  "nbformat_minor": 0,
  "metadata": {
    "kernelspec": {
      "display_name": "Python 3",
      "language": "python",
      "name": "python3"
    },
    "language_info": {
      "codemirror_mode": {
        "name": "ipython",
        "version": 3
      },
      "file_extension": ".py",
      "mimetype": "text/x-python",
      "name": "python",
      "nbconvert_exporter": "python",
      "pygments_lexer": "ipython3",
      "version": "3.7.1"
    },
    "colab": {
      "name": "ResNetDriver.ipynb",
      "provenance": [],
      "collapsed_sections": []
    },
    "accelerator": "GPU"
  },
  "cells": [
    {
      "cell_type": "markdown",
      "metadata": {
        "id": "Ext92i_5Q8b_"
      },
      "source": [
        "# ResNet for CIFAR-10 \n",
        "**based on Section 4.2 in \"Deep Residual Learning for Image Recognition\" from Kaiming He, Xiangyu Zhang, Shaoqing Ren and Jian Sun**\n",
        "(https://arxiv.org/abs/1512.03385)"
      ]
    },
    {
      "cell_type": "markdown",
      "metadata": {
        "id": "jTckv3nTy5-C"
      },
      "source": [
        " **Google Colab Setup**\n",
        "\n",
        "(Skip the next two cells, if you don't use colab)"
      ]
    },
    {
      "cell_type": "code",
      "metadata": {
        "colab": {
          "base_uri": "https://localhost:8080/"
        },
        "id": "xb85b0OSSQta",
        "outputId": "95a06f18-9d0e-4f12-a502-841e7667fb29"
      },
      "source": [
        "# for using the Google Colaboratory\n",
        "from google.colab import drive\n",
        "drive.mount('/content/drive')"
      ],
      "execution_count": 1,
      "outputs": [
        {
          "output_type": "stream",
          "text": [
            "Drive already mounted at /content/drive; to attempt to forcibly remount, call drive.mount(\"/content/drive\", force_remount=True).\n"
          ],
          "name": "stdout"
        }
      ]
    },
    {
      "cell_type": "code",
      "metadata": {
        "colab": {
          "base_uri": "https://localhost:8080/"
        },
        "id": "RMlOOX6Hcp-z",
        "outputId": "e5f51c2e-642f-4024-c5cc-3c6a11c564f8"
      },
      "source": [
        "# Check GPU RAM usage in Google Colab\n",
        "# from: https://gist.github.com/okomarov/c0d9fd0718f6f9b40c701e61523dfed1\n",
        "# memory footprint support libraries/code\n",
        "!ln -sf /opt/bin/nvidia-smi /usr/bin/nvidia-smi\n",
        "!pip install gputil\n",
        "!pip install psutil\n",
        "!pip install humanize\n",
        "\n",
        "import psutil\n",
        "import humanize\n",
        "import os\n",
        "import GPUtil as GPU\n",
        "\n",
        "GPUs = GPU.getGPUs()\n",
        "# XXX: only one GPU on Colab and isn’t guaranteed\n",
        "gpu = GPUs[0]\n",
        "def printm():\n",
        "    process = psutil.Process(os.getpid())\n",
        "    print(\"Gen RAM Free: \" + humanize.naturalsize(psutil.virtual_memory().available), \" |     Proc size: \" + humanize.naturalsize(process.memory_info().rss))\n",
        "    print(\"GPU RAM Free: {0:.0f}MB | Used: {1:.0f}MB | Util {2:3.0f}% | Total     {3:.0f}MB\".format(gpu.memoryFree, gpu.memoryUsed, gpu.memoryUtil*100, gpu.memoryTotal))\n",
        "printm()"
      ],
      "execution_count": 2,
      "outputs": [
        {
          "output_type": "stream",
          "text": [
            "Requirement already satisfied: gputil in /usr/local/lib/python3.7/dist-packages (1.4.0)\n",
            "Requirement already satisfied: psutil in /usr/local/lib/python3.7/dist-packages (5.4.8)\n",
            "Requirement already satisfied: humanize in /usr/local/lib/python3.7/dist-packages (0.5.1)\n",
            "Gen RAM Free: 12.7 GB  |     Proc size: 118.4 MB\n",
            "GPU RAM Free: 11441MB | Used: 0MB | Util   0% | Total     11441MB\n"
          ],
          "name": "stdout"
        }
      ]
    },
    {
      "cell_type": "markdown",
      "metadata": {
        "id": "UcIf1IJkR3cl"
      },
      "source": [
        " **ResNet Implementation**\n",
        "\n",
        "The ResNet architecture is implemented in `ResNet.py`.\n"
      ]
    },
    {
      "cell_type": "code",
      "metadata": {
        "id": "-hzHybgOQ8cC"
      },
      "source": [
        "import torch\n",
        "import torch.nn as nn\n",
        "import torch.optim as optim\n",
        "from torch.utils.data import DataLoader\n",
        "from torch.utils.data import sampler\n",
        "\n",
        "import torchvision.datasets as dset\n",
        "import torchvision.transforms as T\n",
        "import torch.nn.functional as F\n",
        "\n",
        "import matplotlib.pyplot as plt \n",
        "%matplotlib inline\n",
        "import numpy as np"
      ],
      "execution_count": 3,
      "outputs": []
    },
    {
      "cell_type": "code",
      "metadata": {
        "colab": {
          "base_uri": "https://localhost:8080/"
        },
        "id": "mROLHWhfQ8cD",
        "outputId": "1b5703ec-52b7-48d3-e367-6e0f82c0c998"
      },
      "source": [
        "# use GPU if available\n",
        "USE_GPU = True\n",
        "dtype = torch.float32\n",
        "\n",
        "if USE_GPU and torch.cuda.is_available():\n",
        "    device = torch.device('cuda')\n",
        "else: \n",
        "    device = torch.device('cpu')\n",
        "print('using device:', device)"
      ],
      "execution_count": 4,
      "outputs": [
        {
          "output_type": "stream",
          "text": [
            "using device: cuda\n"
          ],
          "name": "stdout"
        }
      ]
    },
    {
      "cell_type": "code",
      "metadata": {
        "colab": {
          "base_uri": "https://localhost:8080/"
        },
        "id": "RZi33jmdQ8cE",
        "outputId": "d39b5927-d79f-4802-9b3e-657fba2ea6c1"
      },
      "source": [
        "# Check basic functionality of architecture\n",
        "from ResNet import ResNet, ResidualBlocks, ConvBlock\n",
        "\n",
        "def test_ResNet():\n",
        "    n = 1\n",
        "    x = torch.zeros((64, 3, 32, 32), dtype=dtype) # minibatch size 64\n",
        "    x = x.to(device)\n",
        "    model = ResNet(n)\n",
        "    model.to(device)\n",
        "    print(model)\n",
        "    scores = model(x)\n",
        "    print(scores.size())\n",
        "    \n",
        "test_ResNet()"
      ],
      "execution_count": 5,
      "outputs": [
        {
          "output_type": "stream",
          "text": [
            "ResNet(\n",
            "  (initial_layer): Conv2d(3, 16, kernel_size=(3, 3), stride=(1, 1), padding=(1, 1))\n",
            "  (bn): BatchNorm2d(16, eps=1e-05, momentum=0.1, affine=True, track_running_stats=True)\n",
            "  (layerBlock1): ResidualBlocks(\n",
            "    (blocks): Sequential(\n",
            "      (0): ConvBlock(\n",
            "        (conv1): Conv2d(16, 16, kernel_size=(3, 3), stride=(1, 1), padding=(1, 1))\n",
            "        (bn1): BatchNorm2d(16, eps=1e-05, momentum=0.1, affine=True, track_running_stats=True)\n",
            "        (conv2): Conv2d(16, 16, kernel_size=(3, 3), stride=(1, 1), padding=(1, 1))\n",
            "        (bn2): BatchNorm2d(16, eps=1e-05, momentum=0.1, affine=True, track_running_stats=True)\n",
            "      )\n",
            "    )\n",
            "  )\n",
            "  (layerBlock2): ResidualBlocks(\n",
            "    (blocks): Sequential(\n",
            "      (0): ConvBlock(\n",
            "        (max): MaxPool2d(kernel_size=1, stride=2, padding=0, dilation=1, ceil_mode=False)\n",
            "        (conv1): Conv2d(16, 32, kernel_size=(3, 3), stride=(2, 2), padding=(1, 1))\n",
            "        (bn1): BatchNorm2d(32, eps=1e-05, momentum=0.1, affine=True, track_running_stats=True)\n",
            "        (conv2): Conv2d(32, 32, kernel_size=(3, 3), stride=(1, 1), padding=(1, 1))\n",
            "        (bn2): BatchNorm2d(32, eps=1e-05, momentum=0.1, affine=True, track_running_stats=True)\n",
            "      )\n",
            "    )\n",
            "  )\n",
            "  (layerBlock3): ResidualBlocks(\n",
            "    (blocks): Sequential(\n",
            "      (0): ConvBlock(\n",
            "        (max): MaxPool2d(kernel_size=1, stride=2, padding=0, dilation=1, ceil_mode=False)\n",
            "        (conv1): Conv2d(32, 64, kernel_size=(3, 3), stride=(2, 2), padding=(1, 1))\n",
            "        (bn1): BatchNorm2d(64, eps=1e-05, momentum=0.1, affine=True, track_running_stats=True)\n",
            "        (conv2): Conv2d(64, 64, kernel_size=(3, 3), stride=(1, 1), padding=(1, 1))\n",
            "        (bn2): BatchNorm2d(64, eps=1e-05, momentum=0.1, affine=True, track_running_stats=True)\n",
            "      )\n",
            "    )\n",
            "  )\n",
            "  (avgpool): AvgPool2d(kernel_size=8, stride=8, padding=0)\n",
            "  (fc): Linear(in_features=64, out_features=10, bias=True)\n",
            ")\n",
            "torch.Size([64, 10])\n"
          ],
          "name": "stdout"
        },
        {
          "output_type": "stream",
          "text": [
            "/usr/local/lib/python3.7/dist-packages/torch/nn/functional.py:718: UserWarning: Named tensors and all their associated APIs are an experimental feature and subject to change. Please do not use them for anything important until they are released as stable. (Triggered internally at  /pytorch/c10/core/TensorImpl.h:1156.)\n",
            "  return torch.max_pool2d(input, kernel_size, stride, padding, dilation, ceil_mode)\n"
          ],
          "name": "stderr"
        }
      ]
    },
    {
      "cell_type": "code",
      "metadata": {
        "colab": {
          "base_uri": "https://localhost:8080/"
        },
        "id": "9uHZThb0Q8cF",
        "outputId": "6cd29856-a05c-49ab-9b28-fd7ff9d4de17"
      },
      "source": [
        "# import CIFAR data and perform data augmentation\n",
        "\n",
        "NUM_TRAIN = 45000\n",
        "batch_size = 128\n",
        "\n",
        "normalize = T.Compose([\n",
        "                T.ToTensor(),\n",
        "                T.Normalize((0.4914, 0.4822, 0.4465), (0.2023, 0.1994, 0.2010))\n",
        "            ])\n",
        "\n",
        "augment = T.Compose([\n",
        "                T.RandomHorizontalFlip(),\n",
        "                T.RandomCrop(32, padding=4)\n",
        "            ])\n",
        "\n",
        "\n",
        "cifar10_train = dset.CIFAR10('./cs231n/datasets', train=True, download=True, transform=T.Compose([augment, normalize]))\n",
        "loader_train = DataLoader(cifar10_train, batch_size=batch_size, sampler=sampler.SubsetRandomSampler(range(NUM_TRAIN)))\n",
        "\n",
        "cifar10_val = dset.CIFAR10('./cs231n/datasets', train=True, download=True, transform=normalize)\n",
        "loader_val = DataLoader(cifar10_val, batch_size=batch_size, sampler=sampler.SubsetRandomSampler(range(NUM_TRAIN, 50000)))\n",
        "\n",
        "cifar10_test = dset.CIFAR10('./cs231n/datasets', train=False, download=True, transform=normalize)\n",
        "loader_test = DataLoader(cifar10_test, batch_size=batch_size)"
      ],
      "execution_count": 6,
      "outputs": [
        {
          "output_type": "stream",
          "text": [
            "Files already downloaded and verified\n",
            "Files already downloaded and verified\n",
            "Files already downloaded and verified\n"
          ],
          "name": "stdout"
        }
      ]
    },
    {
      "cell_type": "code",
      "metadata": {
        "id": "YBMl2kzWQ8cH"
      },
      "source": [
        "# auxilary functions for training and evaluation\n",
        "\n",
        "\n",
        "def check_accuracy_batch(scores, labels, verbose=False):\n",
        "    \"\"\"\n",
        "    Computes the accuracy of a data batch\n",
        "\n",
        "    Inputs: \n",
        "    - scores: (torch.tensor) A PyTorch tensor with score values for labels\n",
        "    - labels: (torch.tensor) A PyTorch tensor with ground truth labels\n",
        "    - verbose: (boolean) Switches printing of scores on and off\n",
        "\n",
        "    Returns: \n",
        "    - acc: (Float) Accuracy of correct predicted labels for the batch\n",
        "    \"\"\"\n",
        "    _, preds = scores.max(1)\n",
        "    num_correct = (labels == preds).sum()\n",
        "    num_samples = preds.size(0)\n",
        "    acc = float(num_correct) / num_samples\n",
        "    if verbose:\n",
        "        print('Got %d / %d correct (%.2f)' % (num_correct, num_samples, 100 * acc))\n",
        "    return acc\n",
        "\n",
        "\n",
        "\n",
        "def train_ResNet(model, optimizer, dataloader):\n",
        "    \"\"\"\n",
        "    Train a model on CIFAR-10.\n",
        "    \n",
        "    Inputs:\n",
        "    - model: (torch.nn.Module) A PyTorch module giving the model to train.\n",
        "    - optimizer: (torch.optim) An optimizer object we will use to train the model\n",
        "    - dataloader: (DataLoader) A DataLoader object supplying the training data\n",
        "    \n",
        "    Returns: \n",
        "    - loss_history: (list) A list of training losses\n",
        "    - accuracy_history: (list) A list of corresponding accuracies\n",
        "    \"\"\"\n",
        "    # set model to training mode\n",
        "    model.train()\n",
        "    \n",
        "    # define history lists\n",
        "    loss_history = []\n",
        "    accuracy_history = []\n",
        "    iterations_per_epoch = max(NUM_TRAIN / batch_size, 1)\n",
        "\n",
        "    for it, (data_batch, labels_batch) in enumerate(dataloader):\n",
        "\n",
        "        # put data to device\n",
        "        data_batch, labels_batch = data_batch.to(device=device, dtype=dtype), labels_batch.to(device=device, dtype=torch.long)\n",
        "        \n",
        "        # compute scores and loss\n",
        "        scores = model(data_batch)\n",
        "        loss = F.cross_entropy(scores, labels_batch)\n",
        "        loss_history.append(loss)\n",
        "\n",
        "        # check batch accuracy after each epoch\n",
        "        if it % iterations_per_epoch == 0:   \n",
        "          if verbose == True:\n",
        "            print('Train accuracy:')\n",
        "          accuracy = check_accuracy_batch(scores, labels_batch, verbose=verbose)\n",
        "          accuracy_history.append(accuracy)\n",
        "\n",
        "        # clear previous gradients and build gradient computational graph\n",
        "        optimizer.zero_grad() \n",
        "        loss.backward()\n",
        "        \n",
        "        # actual backprop und updating params\n",
        "        optimizer.step()\n",
        "        \n",
        "    return {\n",
        "        'loss_history': loss_history, \n",
        "        'accuracy_history': accuracy_history\n",
        "        }\n",
        "    \n",
        "    \n",
        "def evaluate_ResNet(model, dataloader):\n",
        "    \"\"\"\n",
        "    Evaluate a model on CIFAR-10.\n",
        "    \n",
        "    Inputs:\n",
        "    - model: (torch.nn.Module) A PyTorch module giving the model to train.\n",
        "    - dataloader: (DataLoader) A DataLoader object supplying the training data\n",
        "    \n",
        "    Returns: \n",
        "    - loss_history: (list) A list of validation/test losses\n",
        "    - accuracy_history: (list) A list of corresponding accuracies\n",
        "    \"\"\"\n",
        "    # set model to evaluation mode\n",
        "    model.eval()\n",
        "    \n",
        "    # define history lists\n",
        "    loss_history = []\n",
        "    accuracy_history = []\n",
        "    iterations_per_epoch = max(NUM_TRAIN / batch_size, 1)\n",
        "\n",
        "    #if dataloader.dataset.train == True:\n",
        "    #  print(\"Evaluating accuracies on validation set\")\n",
        "    #else:\n",
        "    #  print(\"Evaluating accuracies on test set\")\n",
        "    \n",
        "    with torch.no_grad():\n",
        "      for it, (data_batch, labels_batch) in enumerate(dataloader):\n",
        "        data_batch, labels_batch = data_batch.to(device=device, dtype=dtype), labels_batch.to(device=device, dtype=torch.long)\n",
        "\n",
        "        \n",
        "        # compute scores and loss\n",
        "        scores = model(data_batch)\n",
        "        loss = F.cross_entropy(scores, labels_batch)\n",
        "        loss_history.append(loss)\n",
        "\n",
        "        # check batch accuracy after each epoch\n",
        "        if it % iterations_per_epoch == 0:\n",
        "          if verbose == True:\n",
        "            if dataloader.dataset.train == True:\n",
        "                print('Validation accuracy:')\n",
        "            else:\n",
        "                print('Test accuracy:')\n",
        "          accuracy = check_accuracy_batch(scores, labels_batch, verbose=verbose)\n",
        "          accuracy_history.append(accuracy)\n",
        "        \n",
        "    return {\n",
        "        'loss_history': loss_history, \n",
        "        'accuracy_history': accuracy_history\n",
        "        }\n"
      ],
      "execution_count": 7,
      "outputs": []
    },
    {
      "cell_type": "code",
      "metadata": {
        "colab": {
          "base_uri": "https://localhost:8080/"
        },
        "id": "KHA2rRoMQ8cJ",
        "outputId": "782cdfa6-c609-425d-e33b-f965cf33e7e3"
      },
      "source": [
        "# Train for 5 epochs\n",
        "\n",
        "# initialize model and optimizer with hyperparameters\n",
        "epochs = 5\n",
        "n = 3\n",
        "lr = 0.1\n",
        "model = ResNet(n)\n",
        "model.to(device)\n",
        "optimizer = optim.SGD(model.parameters(), lr=lr, momentum=0.9, weight_decay=0.0001)\n",
        "scheduler = optim.lr_scheduler.ExponentialLR(optimizer, 0.95)\n",
        "overall_train_loss, overall_val_loss, overall_train_acc, overall_val_acc = [], [], [], []\n",
        "\n",
        "# Print training accuracies\n",
        "verbose = True\n",
        "\n",
        "best_model = None\n",
        "best_val_acc = -1\n",
        "\n",
        "for epoch in range(epochs):\n",
        "    print('Epoch ', epoch+1)\n",
        "    train_stats = train_ResNet(model, optimizer, loader_train)\n",
        "    val_stats = evaluate_ResNet(model, loader_val)\n",
        "    scheduler.step()\n",
        "    overall_train_loss += train_stats['loss_history']\n",
        "    overall_train_acc += train_stats['accuracy_history']\n",
        "    overall_val_loss += val_stats['loss_history']\n",
        "    overall_val_acc += val_stats['accuracy_history']\n",
        "\n",
        "    val_acc_avg = np.mean(val_stats['accuracy_history'][-1])\n",
        "    if val_acc_avg > best_val_acc:\n",
        "      best_model = model\n",
        "      best_val_acc = val_acc_avg\n"
      ],
      "execution_count": 8,
      "outputs": [
        {
          "output_type": "stream",
          "text": [
            "Epoch  1\n",
            "Train accuracy:\n",
            "Got 16 / 128 correct (12.50)\n",
            "Validation accuracy:\n",
            "Got 63 / 128 correct (49.22)\n",
            "Epoch  2\n",
            "Train accuracy:\n",
            "Got 69 / 128 correct (53.91)\n",
            "Validation accuracy:\n",
            "Got 81 / 128 correct (63.28)\n",
            "Epoch  3\n",
            "Train accuracy:\n",
            "Got 84 / 128 correct (65.62)\n",
            "Validation accuracy:\n",
            "Got 93 / 128 correct (72.66)\n",
            "Epoch  4\n",
            "Train accuracy:\n",
            "Got 91 / 128 correct (71.09)\n",
            "Validation accuracy:\n",
            "Got 88 / 128 correct (68.75)\n",
            "Epoch  5\n",
            "Train accuracy:\n",
            "Got 94 / 128 correct (73.44)\n",
            "Validation accuracy:\n",
            "Got 85 / 128 correct (66.41)\n"
          ],
          "name": "stdout"
        }
      ]
    },
    {
      "cell_type": "code",
      "metadata": {
        "colab": {
          "base_uri": "https://localhost:8080/"
        },
        "id": "3sxurTecDUOM",
        "outputId": "6c325b0a-9e58-473a-91b7-637d0558a0f2"
      },
      "source": [
        "best_val_acc"
      ],
      "execution_count": 9,
      "outputs": [
        {
          "output_type": "execute_result",
          "data": {
            "text/plain": [
              "0.7265625"
            ]
          },
          "metadata": {
            "tags": []
          },
          "execution_count": 9
        }
      ]
    },
    {
      "cell_type": "code",
      "metadata": {
        "id": "RlNIfKJkQ8cK",
        "colab": {
          "base_uri": "https://localhost:8080/",
          "height": 278
        },
        "outputId": "1dcda804-9ca0-4565-d844-53fe7b879566"
      },
      "source": [
        "# plot loss and accuracy curves\n",
        "def plot_loss_acc(train_loss, train_acc, val_loss, val_acc):   \n",
        "    plt.subplot(2, 1, 1)\n",
        "    plt.plot(train_loss)\n",
        "    plt.xlabel('Iterations')\n",
        "    plt.ylabel('Loss')\n",
        "    plt.legend(['Training'])\n",
        "\n",
        "    plt.subplot(2, 1, 2)\n",
        "    plt.plot(train_acc)\n",
        "    plt.plot(val_acc)\n",
        "    plt.xlabel('Epochs')\n",
        "    plt.ylabel('Accuracy')\n",
        "    plt.legend(['Training', 'Validation'])\n",
        "    plt.xticks(np.arange(epochs), np.arange(1, epochs+1))\n",
        "    \n",
        "plot_loss_acc(overall_train_loss, overall_train_acc, overall_val_loss, overall_val_acc)"
      ],
      "execution_count": 10,
      "outputs": [
        {
          "output_type": "display_data",
          "data": {
            "image/png": "[encoded data removed]",
            "text/plain": [
              "<Figure size 432x288 with 2 Axes>"
            ]
          },
          "metadata": {
            "tags": [],
            "needs_background": "light"
          }
        }
      ]
    },
    {
      "cell_type": "code",
      "metadata": {
        "colab": {
          "base_uri": "https://localhost:8080/"
        },
        "id": "IRJ6Q_GD--TN",
        "outputId": "9ae47adf-659a-450f-ce0f-2083b44c74b6"
      },
      "source": [
        "# test accuracy\n",
        "test_stats = evaluate_ResNet(model, loader_test)\n",
        "\n",
        "print('Final accuracy on test set: %f' % test_stats['accuracy_history'][-1])"
      ],
      "execution_count": 11,
      "outputs": [
        {
          "output_type": "stream",
          "text": [
            "Test accuracy:\n",
            "Got 85 / 128 correct (66.41)\n",
            "Final accuracy on test set: 0.664062\n"
          ],
          "name": "stdout"
        }
      ]
    },
    {
      "cell_type": "code",
      "metadata": {
        "id": "4YrJPhipQ8cK"
      },
      "source": [
        "def count_params(model):\n",
        "    \"\"\"\n",
        "    Number of (learned) parameters in the model.\n",
        "    Inputs:\n",
        "    - model: (torch.nn.Module) A PyTorch module giving the model.\n",
        "    Returns:\n",
        "    -      : (int) Number of parameters\n",
        "    \"\"\"\n",
        "    return sum([np.prod(p.size()) for p in model.parameters()])"
      ],
      "execution_count": 12,
      "outputs": []
    },
    {
      "cell_type": "code",
      "metadata": {
        "colab": {
          "base_uri": "https://localhost:8080/"
        },
        "id": "2I6qw4Q8QW4B",
        "outputId": "7a20e5b4-e74b-4a4f-cfc2-cbf085ccb443"
      },
      "source": [
        "count_params(model)"
      ],
      "execution_count": 13,
      "outputs": [
        {
          "output_type": "execute_result",
          "data": {
            "text/plain": [
              "270410"
            ]
          },
          "metadata": {
            "tags": []
          },
          "execution_count": 13
        }
      ]
    },
    {
      "cell_type": "code",
      "metadata": {
        "id": "yAnjZX-2Sy81"
      },
      "source": [
        ""
      ],
      "execution_count": 57,
      "outputs": []
    }
  ]
}