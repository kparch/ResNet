{
  "nbformat": 4,
  "nbformat_minor": 0,
  "metadata": {
    "kernelspec": {
      "display_name": "Python 3",
      "language": "python",
      "name": "python3"
    },
    "language_info": {
      "codemirror_mode": {
        "name": "ipython",
        "version": 3
      },
      "file_extension": ".py",
      "mimetype": "text/x-python",
      "name": "python",
      "nbconvert_exporter": "python",
      "pygments_lexer": "ipython3",
      "version": "3.7.1"
    },
    "colab": {
      "name": "ResNetDriver.ipynb",
      "provenance": [],
      "collapsed_sections": []
    },
    "accelerator": "GPU",
    "widgets": {
      "application/vnd.jupyter.widget-state+json": {
        "bbb83981b0d142a69ff237256f27f742": {
          "model_module": "@jupyter-widgets/controls",
          "model_name": "HBoxModel",
          "state": {
            "_view_name": "HBoxView",
            "_dom_classes": [],
            "_model_name": "HBoxModel",
            "_view_module": "@jupyter-widgets/controls",
            "_model_module_version": "1.5.0",
            "_view_count": null,
            "_view_module_version": "1.5.0",
            "box_style": "",
            "layout": "IPY_MODEL_73e994fd06a5484db139b4fab4187828",
            "_model_module": "@jupyter-widgets/controls",
            "children": [
              "IPY_MODEL_a7fa9038b16344c59fdf040f9be7f45e",
              "IPY_MODEL_292d8547212d42dda6e8f7904ba2b36b"
            ]
          }
        },
        "73e994fd06a5484db139b4fab4187828": {
          "model_module": "@jupyter-widgets/base",
          "model_name": "LayoutModel",
          "state": {
            "_view_name": "LayoutView",
            "grid_template_rows": null,
            "right": null,
            "justify_content": null,
            "_view_module": "@jupyter-widgets/base",
            "overflow": null,
            "_model_module_version": "1.2.0",
            "_view_count": null,
            "flex_flow": null,
            "width": null,
            "min_width": null,
            "border": null,
            "align_items": null,
            "bottom": null,
            "_model_module": "@jupyter-widgets/base",
            "top": null,
            "grid_column": null,
            "overflow_y": null,
            "overflow_x": null,
            "grid_auto_flow": null,
            "grid_area": null,
            "grid_template_columns": null,
            "flex": null,
            "_model_name": "LayoutModel",
            "justify_items": null,
            "grid_row": null,
            "max_height": null,
            "align_content": null,
            "visibility": null,
            "align_self": null,
            "height": null,
            "min_height": null,
            "padding": null,
            "grid_auto_rows": null,
            "grid_gap": null,
            "max_width": null,
            "order": null,
            "_view_module_version": "1.2.0",
            "grid_template_areas": null,
            "object_position": null,
            "object_fit": null,
            "grid_auto_columns": null,
            "margin": null,
            "display": null,
            "left": null
          }
        },
        "a7fa9038b16344c59fdf040f9be7f45e": {
          "model_module": "@jupyter-widgets/controls",
          "model_name": "FloatProgressModel",
          "state": {
            "_view_name": "ProgressView",
            "style": "IPY_MODEL_29318b094be34172a05a40c3b0f10e93",
            "_dom_classes": [],
            "description": "",
            "_model_name": "FloatProgressModel",
            "bar_style": "success",
            "max": 170498071,
            "_view_module": "@jupyter-widgets/controls",
            "_model_module_version": "1.5.0",
            "value": 170498071,
            "_view_count": null,
            "_view_module_version": "1.5.0",
            "orientation": "horizontal",
            "min": 0,
            "description_tooltip": null,
            "_model_module": "@jupyter-widgets/controls",
            "layout": "IPY_MODEL_7f32f95b2a294ee1b8c0579c5b12ef60"
          }
        },
        "292d8547212d42dda6e8f7904ba2b36b": {
          "model_module": "@jupyter-widgets/controls",
          "model_name": "HTMLModel",
          "state": {
            "_view_name": "HTMLView",
            "style": "IPY_MODEL_3a9bcd03621f405e97c7adcede3698c7",
            "_dom_classes": [],
            "description": "",
            "_model_name": "HTMLModel",
            "placeholder": "​",
            "_view_module": "@jupyter-widgets/controls",
            "_model_module_version": "1.5.0",
            "value": " 170499072/? [07:15&lt;00:00, 391348.31it/s]",
            "_view_count": null,
            "_view_module_version": "1.5.0",
            "description_tooltip": null,
            "_model_module": "@jupyter-widgets/controls",
            "layout": "IPY_MODEL_9f36be4b1c7a416db664601f036a79e3"
          }
        },
        "29318b094be34172a05a40c3b0f10e93": {
          "model_module": "@jupyter-widgets/controls",
          "model_name": "ProgressStyleModel",
          "state": {
            "_view_name": "StyleView",
            "_model_name": "ProgressStyleModel",
            "description_width": "initial",
            "_view_module": "@jupyter-widgets/base",
            "_model_module_version": "1.5.0",
            "_view_count": null,
            "_view_module_version": "1.2.0",
            "bar_color": null,
            "_model_module": "@jupyter-widgets/controls"
          }
        },
        "7f32f95b2a294ee1b8c0579c5b12ef60": {
          "model_module": "@jupyter-widgets/base",
          "model_name": "LayoutModel",
          "state": {
            "_view_name": "LayoutView",
            "grid_template_rows": null,
            "right": null,
            "justify_content": null,
            "_view_module": "@jupyter-widgets/base",
            "overflow": null,
            "_model_module_version": "1.2.0",
            "_view_count": null,
            "flex_flow": null,
            "width": null,
            "min_width": null,
            "border": null,
            "align_items": null,
            "bottom": null,
            "_model_module": "@jupyter-widgets/base",
            "top": null,
            "grid_column": null,
            "overflow_y": null,
            "overflow_x": null,
            "grid_auto_flow": null,
            "grid_area": null,
            "grid_template_columns": null,
            "flex": null,
            "_model_name": "LayoutModel",
            "justify_items": null,
            "grid_row": null,
            "max_height": null,
            "align_content": null,
            "visibility": null,
            "align_self": null,
            "height": null,
            "min_height": null,
            "padding": null,
            "grid_auto_rows": null,
            "grid_gap": null,
            "max_width": null,
            "order": null,
            "_view_module_version": "1.2.0",
            "grid_template_areas": null,
            "object_position": null,
            "object_fit": null,
            "grid_auto_columns": null,
            "margin": null,
            "display": null,
            "left": null
          }
        },
        "3a9bcd03621f405e97c7adcede3698c7": {
          "model_module": "@jupyter-widgets/controls",
          "model_name": "DescriptionStyleModel",
          "state": {
            "_view_name": "StyleView",
            "_model_name": "DescriptionStyleModel",
            "description_width": "",
            "_view_module": "@jupyter-widgets/base",
            "_model_module_version": "1.5.0",
            "_view_count": null,
            "_view_module_version": "1.2.0",
            "_model_module": "@jupyter-widgets/controls"
          }
        },
        "9f36be4b1c7a416db664601f036a79e3": {
          "model_module": "@jupyter-widgets/base",
          "model_name": "LayoutModel",
          "state": {
            "_view_name": "LayoutView",
            "grid_template_rows": null,
            "right": null,
            "justify_content": null,
            "_view_module": "@jupyter-widgets/base",
            "overflow": null,
            "_model_module_version": "1.2.0",
            "_view_count": null,
            "flex_flow": null,
            "width": null,
            "min_width": null,
            "border": null,
            "align_items": null,
            "bottom": null,
            "_model_module": "@jupyter-widgets/base",
            "top": null,
            "grid_column": null,
            "overflow_y": null,
            "overflow_x": null,
            "grid_auto_flow": null,
            "grid_area": null,
            "grid_template_columns": null,
            "flex": null,
            "_model_name": "LayoutModel",
            "justify_items": null,
            "grid_row": null,
            "max_height": null,
            "align_content": null,
            "visibility": null,
            "align_self": null,
            "height": null,
            "min_height": null,
            "padding": null,
            "grid_auto_rows": null,
            "grid_gap": null,
            "max_width": null,
            "order": null,
            "_view_module_version": "1.2.0",
            "grid_template_areas": null,
            "object_position": null,
            "object_fit": null,
            "grid_auto_columns": null,
            "margin": null,
            "display": null,
            "left": null
          }
        }
      }
    }
  },
  "cells": [
    {
      "cell_type": "markdown",
      "metadata": {
        "id": "Ext92i_5Q8b_"
      },
      "source": [
        "# ResNet for CIFAR-10 \n",
        "**based on Section 4.2 in \"Deep Residual Learning for Image Recognition\" from Kaiming He, Xiangyu Zhang, Shaoqing Ren and Jian Sun**\n",
        "(https://arxiv.org/abs/1512.03385)"
      ]
    },
    {
      "cell_type": "markdown",
      "metadata": {
        "id": "jTckv3nTy5-C"
      },
      "source": [
        " **Google Colab Setup**\n",
        "\n",
        "(Skip the next two cells, if you don't use colab)"
      ]
    },
    {
      "cell_type": "code",
      "metadata": {
        "colab": {
          "base_uri": "https://localhost:8080/"
        },
        "id": "xb85b0OSSQta",
        "outputId": "74b1a584-f135-40ed-c0c4-d97aac290b85"
      },
      "source": [
        "# for using the Google Colaboratory\n",
        "from google.colab import drive\n",
        "drive.mount('/content/drive')"
      ],
      "execution_count": 2,
      "outputs": [
        {
          "output_type": "stream",
          "text": [
            "Drive already mounted at /content/drive; to attempt to forcibly remount, call drive.mount(\"/content/drive\", force_remount=True).\n"
          ],
          "name": "stdout"
        }
      ]
    },
    {
      "cell_type": "code",
      "metadata": {
        "colab": {
          "base_uri": "https://localhost:8080/"
        },
        "id": "RMlOOX6Hcp-z",
        "outputId": "61839036-080c-49f9-96c8-11c5ee7044ee"
      },
      "source": [
        "# Check GPU RAM usage in Google Colab\n",
        "# from: https://gist.github.com/okomarov/c0d9fd0718f6f9b40c701e61523dfed1\n",
        "# memory footprint support libraries/code\n",
        "!ln -sf /opt/bin/nvidia-smi /usr/bin/nvidia-smi\n",
        "!pip install gputil\n",
        "!pip install psutil\n",
        "!pip install humanize\n",
        "\n",
        "import psutil\n",
        "import humanize\n",
        "import os\n",
        "import GPUtil as GPU\n",
        "\n",
        "GPUs = GPU.getGPUs()\n",
        "# XXX: only one GPU on Colab and isn’t guaranteed\n",
        "gpu = GPUs[0]\n",
        "def printm():\n",
        "    process = psutil.Process(os.getpid())\n",
        "    print(\"Gen RAM Free: \" + humanize.naturalsize(psutil.virtual_memory().available), \" |     Proc size: \" + humanize.naturalsize(process.memory_info().rss))\n",
        "    print(\"GPU RAM Free: {0:.0f}MB | Used: {1:.0f}MB | Util {2:3.0f}% | Total     {3:.0f}MB\".format(gpu.memoryFree, gpu.memoryUsed, gpu.memoryUtil*100, gpu.memoryTotal))\n",
        "printm()"
      ],
      "execution_count": 3,
      "outputs": [
        {
          "output_type": "stream",
          "text": [
            "Collecting gputil\n",
            "  Downloading https://files.pythonhosted.org/packages/ed/0e/5c61eedde9f6c87713e89d794f01e378cfd9565847d4576fa627d758c554/GPUtil-1.4.0.tar.gz\n",
            "Building wheels for collected packages: gputil\n",
            "  Building wheel for gputil (setup.py) ... \u001b[?25l\u001b[?25hdone\n",
            "  Created wheel for gputil: filename=GPUtil-1.4.0-cp37-none-any.whl size=7411 sha256=7422c8f4c66ee7adabbfa5f87ac7000599cc9a134c3521d9aa440311595a97bd\n",
            "  Stored in directory: /root/.cache/pip/wheels/3d/77/07/80562de4bb0786e5ea186911a2c831fdd0018bda69beab71fd\n",
            "Successfully built gputil\n",
            "Installing collected packages: gputil\n",
            "Successfully installed gputil-1.4.0\n",
            "Requirement already satisfied: psutil in /usr/local/lib/python3.7/dist-packages (5.4.8)\n",
            "Requirement already satisfied: humanize in /usr/local/lib/python3.7/dist-packages (0.5.1)\n",
            "Gen RAM Free: 12.8 GB  |     Proc size: 118.5 MB\n",
            "GPU RAM Free: 11441MB | Used: 0MB | Util   0% | Total     11441MB\n"
          ],
          "name": "stdout"
        }
      ]
    },
    {
      "cell_type": "markdown",
      "metadata": {
        "id": "UcIf1IJkR3cl"
      },
      "source": [
        " **ResNet Implementation**\n",
        "\n",
        "The ResNet architecture is implemented in `ResNet.py`.\n"
      ]
    },
    {
      "cell_type": "code",
      "metadata": {
        "id": "-hzHybgOQ8cC"
      },
      "source": [
        "import torch\n",
        "import torch.nn as nn\n",
        "import torch.optim as optim\n",
        "from torch.utils.data import DataLoader\n",
        "from torch.utils.data import sampler\n",
        "\n",
        "import torchvision.datasets as dset\n",
        "import torchvision.transforms as T\n",
        "import torch.nn.functional as F\n",
        "\n",
        "import matplotlib.pyplot as plt \n",
        "%matplotlib inline\n",
        "import numpy as np"
      ],
      "execution_count": 4,
      "outputs": []
    },
    {
      "cell_type": "code",
      "metadata": {
        "colab": {
          "base_uri": "https://localhost:8080/"
        },
        "id": "mROLHWhfQ8cD",
        "outputId": "8872050c-bfdc-4534-c9e6-389d6c3aad7f"
      },
      "source": [
        "# use GPU if available\n",
        "USE_GPU = True\n",
        "dtype = torch.float32\n",
        "\n",
        "if USE_GPU and torch.cuda.is_available():\n",
        "    device = torch.device('cuda')\n",
        "else: \n",
        "    device = torch.device('cpu')\n",
        "print('using device:', device)"
      ],
      "execution_count": 5,
      "outputs": [
        {
          "output_type": "stream",
          "text": [
            "using device: cuda\n"
          ],
          "name": "stdout"
        }
      ]
    },
    {
      "cell_type": "code",
      "metadata": {
        "colab": {
          "base_uri": "https://localhost:8080/"
        },
        "id": "RZi33jmdQ8cE",
        "outputId": "a69a2b9f-c6a6-4605-bf8f-9020102309ae"
      },
      "source": [
        "# Check basic functionality of architecture\n",
        "from ResNet import ResNet, ResidualBlocks, ConvBlock\n",
        "\n",
        "def test_ResNet():\n",
        "    n = 1\n",
        "    x = torch.zeros((64, 3, 32, 32), dtype=dtype) # minibatch size 64\n",
        "    x = x.to(device)\n",
        "    model = ResNet(n)\n",
        "    model.to(device)\n",
        "    print(model)\n",
        "    scores = model(x)\n",
        "    print(scores.size())\n",
        "    \n",
        "test_ResNet()"
      ],
      "execution_count": 7,
      "outputs": [
        {
          "output_type": "stream",
          "text": [
            "ResNet(\n",
            "  (initial_layer): Conv2d(3, 16, kernel_size=(3, 3), stride=(1, 1), padding=(1, 1))\n",
            "  (bn): BatchNorm2d(16, eps=1e-05, momentum=0.1, affine=True, track_running_stats=True)\n",
            "  (layerBlock1): ResidualBlocks(\n",
            "    (blocks): Sequential(\n",
            "      (0): ConvBlock(\n",
            "        (conv1): Conv2d(16, 16, kernel_size=(3, 3), stride=(1, 1), padding=(1, 1))\n",
            "        (bn1): BatchNorm2d(16, eps=1e-05, momentum=0.1, affine=True, track_running_stats=True)\n",
            "        (conv2): Conv2d(16, 16, kernel_size=(3, 3), stride=(1, 1), padding=(1, 1))\n",
            "        (bn2): BatchNorm2d(16, eps=1e-05, momentum=0.1, affine=True, track_running_stats=True)\n",
            "      )\n",
            "    )\n",
            "  )\n",
            "  (layerBlock2): ResidualBlocks(\n",
            "    (blocks): Sequential(\n",
            "      (0): ConvBlock(\n",
            "        (max): MaxPool2d(kernel_size=1, stride=2, padding=0, dilation=1, ceil_mode=False)\n",
            "        (conv1): Conv2d(16, 32, kernel_size=(3, 3), stride=(2, 2), padding=(1, 1))\n",
            "        (bn1): BatchNorm2d(32, eps=1e-05, momentum=0.1, affine=True, track_running_stats=True)\n",
            "        (conv2): Conv2d(32, 32, kernel_size=(3, 3), stride=(1, 1), padding=(1, 1))\n",
            "        (bn2): BatchNorm2d(32, eps=1e-05, momentum=0.1, affine=True, track_running_stats=True)\n",
            "      )\n",
            "    )\n",
            "  )\n",
            "  (layerBlock3): ResidualBlocks(\n",
            "    (blocks): Sequential(\n",
            "      (0): ConvBlock(\n",
            "        (max): MaxPool2d(kernel_size=1, stride=2, padding=0, dilation=1, ceil_mode=False)\n",
            "        (conv1): Conv2d(32, 64, kernel_size=(3, 3), stride=(2, 2), padding=(1, 1))\n",
            "        (bn1): BatchNorm2d(64, eps=1e-05, momentum=0.1, affine=True, track_running_stats=True)\n",
            "        (conv2): Conv2d(64, 64, kernel_size=(3, 3), stride=(1, 1), padding=(1, 1))\n",
            "        (bn2): BatchNorm2d(64, eps=1e-05, momentum=0.1, affine=True, track_running_stats=True)\n",
            "      )\n",
            "    )\n",
            "  )\n",
            "  (avgpool): AvgPool2d(kernel_size=8, stride=8, padding=0)\n",
            "  (fc): Linear(in_features=64, out_features=10, bias=True)\n",
            ")\n",
            "torch.Size([64, 10])\n"
          ],
          "name": "stdout"
        },
        {
          "output_type": "stream",
          "text": [
            "/usr/local/lib/python3.7/dist-packages/torch/nn/functional.py:718: UserWarning: Named tensors and all their associated APIs are an experimental feature and subject to change. Please do not use them for anything important until they are released as stable. (Triggered internally at  /pytorch/c10/core/TensorImpl.h:1156.)\n",
            "  return torch.max_pool2d(input, kernel_size, stride, padding, dilation, ceil_mode)\n"
          ],
          "name": "stderr"
        }
      ]
    },
    {
      "cell_type": "code",
      "metadata": {
        "colab": {
          "base_uri": "https://localhost:8080/",
          "height": 136,
          "referenced_widgets": [
            "bbb83981b0d142a69ff237256f27f742",
            "73e994fd06a5484db139b4fab4187828",
            "a7fa9038b16344c59fdf040f9be7f45e",
            "292d8547212d42dda6e8f7904ba2b36b",
            "29318b094be34172a05a40c3b0f10e93",
            "7f32f95b2a294ee1b8c0579c5b12ef60",
            "3a9bcd03621f405e97c7adcede3698c7",
            "9f36be4b1c7a416db664601f036a79e3"
          ]
        },
        "id": "9uHZThb0Q8cF",
        "outputId": "c1814a8b-441a-4205-c440-a3e2002c8568"
      },
      "source": [
        "# import CIFAR data and perform data augmentation\n",
        "\n",
        "NUM_TRAIN = 45000\n",
        "batch_size = 128\n",
        "\n",
        "normalize = T.Compose([\n",
        "                T.ToTensor(),\n",
        "                T.Normalize((0.4914, 0.4822, 0.4465), (0.2023, 0.1994, 0.2010))\n",
        "            ])\n",
        "\n",
        "augment = T.Compose([\n",
        "                T.RandomHorizontalFlip(),\n",
        "                T.RandomCrop(32, padding=4)\n",
        "            ])\n",
        "\n",
        "\n",
        "cifar10_train = dset.CIFAR10('./cs231n/datasets', train=True, download=True, transform=T.Compose([augment, normalize]))\n",
        "loader_train = DataLoader(cifar10_train, batch_size=batch_size, sampler=sampler.SubsetRandomSampler(range(NUM_TRAIN)))\n",
        "\n",
        "cifar10_val = dset.CIFAR10('./cs231n/datasets', train=True, download=True, transform=normalize)\n",
        "loader_val = DataLoader(cifar10_val, batch_size=batch_size, sampler=sampler.SubsetRandomSampler(range(NUM_TRAIN, 50000)))\n",
        "\n",
        "cifar10_test = dset.CIFAR10('./cs231n/datasets', train=False, download=True, transform=normalize)\n",
        "loader_test = DataLoader(cifar10_test, batch_size=batch_size)"
      ],
      "execution_count": 8,
      "outputs": [
        {
          "output_type": "stream",
          "text": [
            "Downloading https://www.cs.toronto.edu/~kriz/cifar-10-python.tar.gz to ./cs231n/datasets/cifar-10-python.tar.gz\n"
          ],
          "name": "stdout"
        },
        {
          "output_type": "display_data",
          "data": {
            "application/vnd.jupyter.widget-view+json": {
              "model_id": "bbb83981b0d142a69ff237256f27f742",
              "version_minor": 0,
              "version_major": 2
            },
            "text/plain": [
              "HBox(children=(FloatProgress(value=0.0, max=170498071.0), HTML(value='')))"
            ]
          },
          "metadata": {
            "tags": []
          }
        },
        {
          "output_type": "stream",
          "text": [
            "\n",
            "Extracting ./cs231n/datasets/cifar-10-python.tar.gz to ./cs231n/datasets\n",
            "Files already downloaded and verified\n",
            "Files already downloaded and verified\n"
          ],
          "name": "stdout"
        }
      ]
    },
    {
      "cell_type": "code",
      "metadata": {
        "id": "xifBee4_Q8cG"
      },
      "source": [
        "#def check_accuracy(loader, model):\n",
        "#    if loader.dataset.train:\n",
        "#        print('Checking accuracy on validation set')\n",
        "#    else: \n",
        "#        print('Checking accuracy on test set')\n",
        "#    num_correct = 0\n",
        "#    num_samples = 0\n",
        "#    model.eval() # set model to evaluation mode\n",
        "#    with torch.no_grad():\n",
        "#        for x, y in loader:\n",
        "#            x = x.to(device=device, dtype=dtype) # move to device, e.g. GPU\n",
        "#            y = y.to(device=device, dtype=torch.long)\n",
        "#            scores = model(x)\n",
        "#            _, preds = scores.max(1)\n",
        "#            num_correct += (y == preds).sum()\n",
        "#            num_samples += preds.size(0)\n",
        "#        acc = float(num_correct) / num_samples\n",
        "#        print('Got %d / %d correct (%.2f)' % (num_correct, num_samples, 100 * acc))\n",
        "        \n",
        "        \n",
        "def check_accuracy_batch(scores, labels, verbose=False):\n",
        "    _, preds = scores.max(1)\n",
        "    num_correct = (labels == preds).sum()\n",
        "    num_samples = preds.size(0)\n",
        "    acc = float(num_correct) / num_samples\n",
        "    if verbose:\n",
        "        print('Got %d / %d correct (%.2f)' % (num_correct, num_samples, 100 * acc))\n",
        "    return acc"
      ],
      "execution_count": 9,
      "outputs": []
    },
    {
      "cell_type": "code",
      "metadata": {
        "id": "YBMl2kzWQ8cH"
      },
      "source": [
        "# training and validation function for one epoch\n",
        "\n",
        "def train_ResNet(model, optimizer, dataloader):\n",
        "    \"\"\"\n",
        "    Train a model on CIFAR-10.\n",
        "    \n",
        "    Inputs:\n",
        "    - model: (torch.nn.Module) A PyTorch module giving the model to train.\n",
        "    - optimizer: (torch.optim) An optimizer object we will use to train the model\n",
        "    - dataloader: (DataLoader) A DataLoader object supplying the training data\n",
        "    \n",
        "    Returns: \n",
        "    - loss_history\n",
        "    - accuracy_history\n",
        "    \"\"\"\n",
        "    # set model to training mode\n",
        "    model.train()\n",
        "    \n",
        "    # loss history \n",
        "    loss_history = []\n",
        "    accuracy_history = []\n",
        "    iterations_per_epoch = max(NUM_TRAIN / batch_size, 1)\n",
        "\n",
        "    for it, (data_batch, labels_batch) in enumerate(dataloader):\n",
        "\n",
        "        data_batch = data_batch.to(device=device, dtype=dtype)\n",
        "        labels_batch = labels_batch.to(device=device, dtype=torch.long)\n",
        "        verbose = False\n",
        "        if it % 10 == 0:\n",
        "            verbose = True\n",
        "        \n",
        "        # compute scores and loss\n",
        "        scores = model(data_batch)\n",
        "        loss = F.cross_entropy(scores, labels_batch)\n",
        "        loss_history.append(loss)\n",
        "        \n",
        "\n",
        "        if it % iterations_per_epoch == 0:\n",
        "              # Check accuracy\n",
        "              accuracy = check_accuracy_batch(scores, labels_batch, verbose=verbose)\n",
        "              accuracy_history.append(accuracy)\n",
        "\n",
        "        \n",
        "    \n",
        "        # clear previous gradients\n",
        "        optimizer.zero_grad()\n",
        "        \n",
        "        # build gradient computational graph\n",
        "        loss.backward()\n",
        "        \n",
        "        # actual backprop und updating params\n",
        "        optimizer.step()\n",
        "        \n",
        "    return {\n",
        "        'loss_history': loss_history, \n",
        "        'accuracy_history': accuracy_history\n",
        "        }\n",
        "    \n",
        "    \n",
        "    \n",
        "    \n",
        "def evaluate_ResNet(model, dataloader):\n",
        "    \"\"\"\n",
        "    Evaluate a model on CIFAR-10 using the PyTorch Module API.\n",
        "    \n",
        "    Inputs:\n",
        "    - model: (torch.nn.Module) A PyTorch module giving the model to train.\n",
        "    - dataloader: (DataLoader) A DataLoader object supplying the training data\n",
        "    \n",
        "    Returns: \n",
        "    - loss_history\n",
        "    - accuracy_history\n",
        "    \"\"\"\n",
        "    # set model to evaluation mode\n",
        "    model.eval()\n",
        "    \n",
        "    # loss history \n",
        "    loss_history = []\n",
        "    accuracy_history = []\n",
        "    iterations_per_epoch = max(NUM_TRAIN / batch_size, 1)\n",
        "    if dataloader.dataset.train == True:\n",
        "      print(\"Evaluating accuracies on validation set\")\n",
        "    else:\n",
        "      print(\"Evaluating accuracies on test set\")\n",
        "    \n",
        "    with torch.no_grad():\n",
        "      for it, (data_batch, labels_batch) in enumerate(dataloader):\n",
        "        data_batch = data_batch.to(device=device, dtype=dtype)\n",
        "        labels_batch = labels_batch.to(device=device, dtype=torch.long)\n",
        "        verbose = False\n",
        "        if it % 10 == 0:\n",
        "            verbose = True\n",
        "        \n",
        "        # compute scores and loss\n",
        "        scores = model(data_batch)\n",
        "        loss = F.cross_entropy(scores, labels_batch)\n",
        "        loss_history.append(loss)\n",
        "\n",
        "        if it % iterations_per_epoch == 0:\n",
        "              # Check accuracy\n",
        "              accuracy = check_accuracy_batch(scores, labels_batch, verbose=verbose)\n",
        "              accuracy_history.append(accuracy)\n",
        "        \n",
        "    return {\n",
        "        'loss_history': loss_history, \n",
        "        'accuracy_history': accuracy_history\n",
        "        }\n"
      ],
      "execution_count": 10,
      "outputs": []
    },
    {
      "cell_type": "code",
      "metadata": {
        "colab": {
          "base_uri": "https://localhost:8080/"
        },
        "id": "KHA2rRoMQ8cJ",
        "outputId": "e555ee56-755e-474d-d666-9f33a358feb7"
      },
      "source": [
        "# Train for 5 epochs\n",
        "epochs = 5\n",
        "n = 3\n",
        "lr = 0.1\n",
        "model = ResNet(n)\n",
        "model.to(device)\n",
        "optimizer = optim.SGD(model.parameters(), lr=lr, momentum=0.9, weight_decay=0.0001)\n",
        "scheduler = optim.lr_scheduler.ExponentialLR(optimizer, 0.95)\n",
        "overall_train_loss, overall_val_loss, overall_train_acc, overall_val_acc = [], [], [], []\n",
        "\n",
        "best_model = None\n",
        "best_val_acc = -1\n",
        "\n",
        "for epoch in range(epochs):\n",
        "    print('Epoch ', epoch)\n",
        "    scheduler.step()\n",
        "    train_stats = train_ResNet(model, optimizer, loader_train)\n",
        "    val_stats = evaluate_ResNet(model, loader_val)\n",
        "    overall_train_loss += train_stats['loss_history']\n",
        "    overall_train_acc += train_stats['accuracy_history']\n",
        "    overall_val_loss += val_stats['loss_history']\n",
        "    overall_val_acc += val_stats['accuracy_history']\n",
        "\n",
        "    val_acc_avg = np.mean(val_stats['accuracy_history'][-1])\n",
        "    if val_acc_avg > best_val_acc:\n",
        "      best_model = model\n",
        "      best_val_acc = val_acc_avg\n"
      ],
      "execution_count": 11,
      "outputs": [
        {
          "output_type": "stream",
          "text": [
            "Epoch  0\n"
          ],
          "name": "stdout"
        },
        {
          "output_type": "stream",
          "text": [
            "/usr/local/lib/python3.7/dist-packages/torch/optim/lr_scheduler.py:134: UserWarning: Detected call of `lr_scheduler.step()` before `optimizer.step()`. In PyTorch 1.1.0 and later, you should call them in the opposite order: `optimizer.step()` before `lr_scheduler.step()`.  Failure to do this will result in PyTorch skipping the first value of the learning rate schedule. See more details at https://pytorch.org/docs/stable/optim.html#how-to-adjust-learning-rate\n",
            "  \"https://pytorch.org/docs/stable/optim.html#how-to-adjust-learning-rate\", UserWarning)\n"
          ],
          "name": "stderr"
        },
        {
          "output_type": "stream",
          "text": [
            "Got 19 / 128 correct (14.84)\n",
            "Evaluating accuracies on validation set\n",
            "Got 60 / 128 correct (46.88)\n",
            "Epoch  1\n",
            "Got 60 / 128 correct (46.88)\n",
            "Evaluating accuracies on validation set\n",
            "Got 84 / 128 correct (65.62)\n",
            "Epoch  2\n",
            "Got 82 / 128 correct (64.06)\n",
            "Evaluating accuracies on validation set\n",
            "Got 91 / 128 correct (71.09)\n",
            "Epoch  3\n",
            "Got 92 / 128 correct (71.88)\n",
            "Evaluating accuracies on validation set\n",
            "Got 95 / 128 correct (74.22)\n",
            "Epoch  4\n",
            "Got 99 / 128 correct (77.34)\n",
            "Evaluating accuracies on validation set\n",
            "Got 101 / 128 correct (78.91)\n"
          ],
          "name": "stdout"
        }
      ]
    },
    {
      "cell_type": "code",
      "metadata": {
        "colab": {
          "base_uri": "https://localhost:8080/"
        },
        "id": "3sxurTecDUOM",
        "outputId": "5ea8486b-aa74-40f0-cd8e-81c13f8ee4ce"
      },
      "source": [
        "best_val_acc"
      ],
      "execution_count": 12,
      "outputs": [
        {
          "output_type": "execute_result",
          "data": {
            "text/plain": [
              "0.7890625"
            ]
          },
          "metadata": {
            "tags": []
          },
          "execution_count": 12
        }
      ]
    },
    {
      "cell_type": "code",
      "metadata": {
        "id": "RlNIfKJkQ8cK",
        "colab": {
          "base_uri": "https://localhost:8080/",
          "height": 278
        },
        "outputId": "f15df911-ee4d-4149-b2da-343efedb6c1c"
      },
      "source": [
        "# plot loss and accuracy curves\n",
        "def plot_loss_acc(train_loss, train_acc, val_loss, val_acc):   \n",
        "    plt.subplot(2, 1, 1)\n",
        "    plt.plot(train_loss)\n",
        "    plt.xlabel('Iterations')\n",
        "    plt.ylabel('Loss')\n",
        "    plt.legend(['Training'])\n",
        "\n",
        "    plt.subplot(2, 1, 2)\n",
        "    plt.plot(train_acc)\n",
        "    plt.plot(val_acc)\n",
        "    plt.xlabel('Epochs')\n",
        "    plt.ylabel('Accuracy')\n",
        "    plt.legend(['Training', 'Validation'])\n",
        "    \n",
        "plot_loss_acc(overall_train_loss, overall_train_acc, overall_val_loss, overall_val_acc)"
      ],
      "execution_count": 13,
      "outputs": [
        {
          "output_type": "display_data",
          "data": {
            "image/png": "[encoded data removed]",
            "text/plain": [
              "<Figure size 432x288 with 2 Axes>"
            ]
          },
          "metadata": {
            "tags": [],
            "needs_background": "light"
          }
        }
      ]
    },
    {
      "cell_type": "code",
      "metadata": {
        "colab": {
          "base_uri": "https://localhost:8080/"
        },
        "id": "IRJ6Q_GD--TN",
        "outputId": "a9c61aee-c7ca-4d79-81ba-4bf50ddacde6"
      },
      "source": [
        "# test accuracy\n",
        "test_stats = evaluate_ResNet(model, loader_test)\n",
        "\n",
        "print('Final accuracy on test set: %f' % test_stats['accuracy_history'][-1])"
      ],
      "execution_count": 14,
      "outputs": [
        {
          "output_type": "stream",
          "text": [
            "Evaluating accuracies on test set\n",
            "Got 98 / 128 correct (76.56)\n",
            "Final accuracy on test set: 0.765625\n"
          ],
          "name": "stdout"
        }
      ]
    },
    {
      "cell_type": "code",
      "metadata": {
        "id": "4YrJPhipQ8cK"
      },
      "source": [
        "def count_params(model):\n",
        "   return sum([np.prod(p.size()) for p in model.parameters()])"
      ],
      "execution_count": 15,
      "outputs": []
    },
    {
      "cell_type": "code",
      "metadata": {
        "colab": {
          "base_uri": "https://localhost:8080/"
        },
        "id": "2I6qw4Q8QW4B",
        "outputId": "5ec708b3-d2eb-45e4-b630-10cf0a0d7fe3"
      },
      "source": [
        "count_params(model)"
      ],
      "execution_count": 16,
      "outputs": [
        {
          "output_type": "execute_result",
          "data": {
            "text/plain": [
              "270410"
            ]
          },
          "metadata": {
            "tags": []
          },
          "execution_count": 16
        }
      ]
    },
    {
      "cell_type": "code",
      "metadata": {
        "id": "yAnjZX-2Sy81"
      },
      "source": [
        ""
      ],
      "execution_count": null,
      "outputs": []
    }
  ]
}